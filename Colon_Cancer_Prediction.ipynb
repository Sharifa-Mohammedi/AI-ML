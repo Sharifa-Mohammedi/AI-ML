{
  "nbformat": 4,
  "nbformat_minor": 0,
  "metadata": {
    "colab": {
      "provenance": [],
      "authorship_tag": "ABX9TyO7nIe3j54MNESTKMRBMKIV",
      "include_colab_link": true
    },
    "kernelspec": {
      "name": "python3",
      "display_name": "Python 3"
    },
    "language_info": {
      "name": "python"
    }
  },
  "cells": [
    {
      "cell_type": "markdown",
      "metadata": {
        "id": "view-in-github",
        "colab_type": "text"
      },
      "source": [
        "<a href=\"https://colab.research.google.com/github/Sharifa-Mohammedi/AI-ML/blob/main/Colon_Cancer_Prediction.ipynb\" target=\"_parent\"><img src=\"https://colab.research.google.com/assets/colab-badge.svg\" alt=\"Open In Colab\"/></a>"
      ]
    },
    {
      "cell_type": "markdown",
      "source": [
        "**Importing Libraries**\n"
      ],
      "metadata": {
        "id": "EvnQ7gvQDhRj"
      }
    },
    {
      "cell_type": "code",
      "execution_count": 148,
      "metadata": {
        "id": "1fUqjyso2__m"
      },
      "outputs": [],
      "source": [
        "# For data manipulation and analysis\n",
        "import pandas as pd\n",
        "import numpy as np\n",
        "\n",
        "# For data visualization\n",
        "import matplotlib.pyplot as plt\n",
        "import seaborn as sns\n",
        "\n",
        "# For machine learning models\n",
        "from sklearn.model_selection import train_test_split, GridSearchCV\n",
        "from sklearn.ensemble import RandomForestClassifier\n",
        "from sklearn.linear_model import LogisticRegression\n",
        "from sklearn.metrics import accuracy_score, precision_score, recall_score, f1_score, classification_report\n",
        "\n",
        "# For feature importance analysis\n",
        "import shap\n"
      ]
    },
    {
      "cell_type": "code",
      "source": [
        "dataset1 = pd.read_csv('/content/dataset_1_colon_cancer.csv')\n",
        "dataset1"
      ],
      "metadata": {
        "id": "42uuuj_b3Gtx"
      },
      "execution_count": null,
      "outputs": []
    },
    {
      "cell_type": "code",
      "source": [
        "dataset2 = pd.read_csv('/content/dataset_2_colon_cancer.csv')\n",
        "dataset2"
      ],
      "metadata": {
        "colab": {
          "base_uri": "https://localhost:8080/",
          "height": 441
        },
        "id": "XkUkaJUm3VZT",
        "outputId": "c9a1d430-5acd-443b-9dcf-47828f2b5577"
      },
      "execution_count": 150,
      "outputs": [
        {
          "output_type": "execute_result",
          "data": {
            "text/plain": [
              "    Tumor Grade Biopsy Result Lymph Node Involvement Bowel Obstruction  \\\n",
              "0             3      Positive                    Yes               Yes   \n",
              "1             3      Negative                    Yes               Yes   \n",
              "2             2      Negative                     No                No   \n",
              "3             1      Negative                    Yes                No   \n",
              "4             1      Negative                     No                No   \n",
              "..          ...           ...                    ...               ...   \n",
              "95            3      Negative                    Yes               Yes   \n",
              "96            3      Positive                    Yes               Yes   \n",
              "97            3      Negative                    Yes               Yes   \n",
              "98            3      Negative                    Yes               Yes   \n",
              "99            2      Positive                     No               Yes   \n",
              "\n",
              "   Smoking History  Type of Colon Cancer  \n",
              "0       Non-Smoker                     3  \n",
              "1           Smoker                     2  \n",
              "2       Non-Smoker                     3  \n",
              "3           Smoker                     2  \n",
              "4       Non-Smoker                     2  \n",
              "..             ...                   ...  \n",
              "95          Smoker                     2  \n",
              "96          Smoker                     3  \n",
              "97          Smoker                     2  \n",
              "98          Smoker                     3  \n",
              "99          Smoker                     2  \n",
              "\n",
              "[100 rows x 6 columns]"
            ],
            "text/html": [
              "\n",
              "  <div id=\"df-5676ba97-3462-4260-a1de-287cfee9ec96\" class=\"colab-df-container\">\n",
              "    <div>\n",
              "<style scoped>\n",
              "    .dataframe tbody tr th:only-of-type {\n",
              "        vertical-align: middle;\n",
              "    }\n",
              "\n",
              "    .dataframe tbody tr th {\n",
              "        vertical-align: top;\n",
              "    }\n",
              "\n",
              "    .dataframe thead th {\n",
              "        text-align: right;\n",
              "    }\n",
              "</style>\n",
              "<table border=\"1\" class=\"dataframe\">\n",
              "  <thead>\n",
              "    <tr style=\"text-align: right;\">\n",
              "      <th></th>\n",
              "      <th>Tumor Grade</th>\n",
              "      <th>Biopsy Result</th>\n",
              "      <th>Lymph Node Involvement</th>\n",
              "      <th>Bowel Obstruction</th>\n",
              "      <th>Smoking History</th>\n",
              "      <th>Type of Colon Cancer</th>\n",
              "    </tr>\n",
              "  </thead>\n",
              "  <tbody>\n",
              "    <tr>\n",
              "      <th>0</th>\n",
              "      <td>3</td>\n",
              "      <td>Positive</td>\n",
              "      <td>Yes</td>\n",
              "      <td>Yes</td>\n",
              "      <td>Non-Smoker</td>\n",
              "      <td>3</td>\n",
              "    </tr>\n",
              "    <tr>\n",
              "      <th>1</th>\n",
              "      <td>3</td>\n",
              "      <td>Negative</td>\n",
              "      <td>Yes</td>\n",
              "      <td>Yes</td>\n",
              "      <td>Smoker</td>\n",
              "      <td>2</td>\n",
              "    </tr>\n",
              "    <tr>\n",
              "      <th>2</th>\n",
              "      <td>2</td>\n",
              "      <td>Negative</td>\n",
              "      <td>No</td>\n",
              "      <td>No</td>\n",
              "      <td>Non-Smoker</td>\n",
              "      <td>3</td>\n",
              "    </tr>\n",
              "    <tr>\n",
              "      <th>3</th>\n",
              "      <td>1</td>\n",
              "      <td>Negative</td>\n",
              "      <td>Yes</td>\n",
              "      <td>No</td>\n",
              "      <td>Smoker</td>\n",
              "      <td>2</td>\n",
              "    </tr>\n",
              "    <tr>\n",
              "      <th>4</th>\n",
              "      <td>1</td>\n",
              "      <td>Negative</td>\n",
              "      <td>No</td>\n",
              "      <td>No</td>\n",
              "      <td>Non-Smoker</td>\n",
              "      <td>2</td>\n",
              "    </tr>\n",
              "    <tr>\n",
              "      <th>...</th>\n",
              "      <td>...</td>\n",
              "      <td>...</td>\n",
              "      <td>...</td>\n",
              "      <td>...</td>\n",
              "      <td>...</td>\n",
              "      <td>...</td>\n",
              "    </tr>\n",
              "    <tr>\n",
              "      <th>95</th>\n",
              "      <td>3</td>\n",
              "      <td>Negative</td>\n",
              "      <td>Yes</td>\n",
              "      <td>Yes</td>\n",
              "      <td>Smoker</td>\n",
              "      <td>2</td>\n",
              "    </tr>\n",
              "    <tr>\n",
              "      <th>96</th>\n",
              "      <td>3</td>\n",
              "      <td>Positive</td>\n",
              "      <td>Yes</td>\n",
              "      <td>Yes</td>\n",
              "      <td>Smoker</td>\n",
              "      <td>3</td>\n",
              "    </tr>\n",
              "    <tr>\n",
              "      <th>97</th>\n",
              "      <td>3</td>\n",
              "      <td>Negative</td>\n",
              "      <td>Yes</td>\n",
              "      <td>Yes</td>\n",
              "      <td>Smoker</td>\n",
              "      <td>2</td>\n",
              "    </tr>\n",
              "    <tr>\n",
              "      <th>98</th>\n",
              "      <td>3</td>\n",
              "      <td>Negative</td>\n",
              "      <td>Yes</td>\n",
              "      <td>Yes</td>\n",
              "      <td>Smoker</td>\n",
              "      <td>3</td>\n",
              "    </tr>\n",
              "    <tr>\n",
              "      <th>99</th>\n",
              "      <td>2</td>\n",
              "      <td>Positive</td>\n",
              "      <td>No</td>\n",
              "      <td>Yes</td>\n",
              "      <td>Smoker</td>\n",
              "      <td>2</td>\n",
              "    </tr>\n",
              "  </tbody>\n",
              "</table>\n",
              "<p>100 rows × 6 columns</p>\n",
              "</div>\n",
              "    <div class=\"colab-df-buttons\">\n",
              "\n",
              "  <div class=\"colab-df-container\">\n",
              "    <button class=\"colab-df-convert\" onclick=\"convertToInteractive('df-5676ba97-3462-4260-a1de-287cfee9ec96')\"\n",
              "            title=\"Convert this dataframe to an interactive table.\"\n",
              "            style=\"display:none;\">\n",
              "\n",
              "  <svg xmlns=\"http://www.w3.org/2000/svg\" height=\"24px\" viewBox=\"0 -960 960 960\">\n",
              "    <path d=\"M120-120v-720h720v720H120Zm60-500h600v-160H180v160Zm220 220h160v-160H400v160Zm0 220h160v-160H400v160ZM180-400h160v-160H180v160Zm440 0h160v-160H620v160ZM180-180h160v-160H180v160Zm440 0h160v-160H620v160Z\"/>\n",
              "  </svg>\n",
              "    </button>\n",
              "\n",
              "  <style>\n",
              "    .colab-df-container {\n",
              "      display:flex;\n",
              "      gap: 12px;\n",
              "    }\n",
              "\n",
              "    .colab-df-convert {\n",
              "      background-color: #E8F0FE;\n",
              "      border: none;\n",
              "      border-radius: 50%;\n",
              "      cursor: pointer;\n",
              "      display: none;\n",
              "      fill: #1967D2;\n",
              "      height: 32px;\n",
              "      padding: 0 0 0 0;\n",
              "      width: 32px;\n",
              "    }\n",
              "\n",
              "    .colab-df-convert:hover {\n",
              "      background-color: #E2EBFA;\n",
              "      box-shadow: 0px 1px 2px rgba(60, 64, 67, 0.3), 0px 1px 3px 1px rgba(60, 64, 67, 0.15);\n",
              "      fill: #174EA6;\n",
              "    }\n",
              "\n",
              "    .colab-df-buttons div {\n",
              "      margin-bottom: 4px;\n",
              "    }\n",
              "\n",
              "    [theme=dark] .colab-df-convert {\n",
              "      background-color: #3B4455;\n",
              "      fill: #D2E3FC;\n",
              "    }\n",
              "\n",
              "    [theme=dark] .colab-df-convert:hover {\n",
              "      background-color: #434B5C;\n",
              "      box-shadow: 0px 1px 3px 1px rgba(0, 0, 0, 0.15);\n",
              "      filter: drop-shadow(0px 1px 2px rgba(0, 0, 0, 0.3));\n",
              "      fill: #FFFFFF;\n",
              "    }\n",
              "  </style>\n",
              "\n",
              "    <script>\n",
              "      const buttonEl =\n",
              "        document.querySelector('#df-5676ba97-3462-4260-a1de-287cfee9ec96 button.colab-df-convert');\n",
              "      buttonEl.style.display =\n",
              "        google.colab.kernel.accessAllowed ? 'block' : 'none';\n",
              "\n",
              "      async function convertToInteractive(key) {\n",
              "        const element = document.querySelector('#df-5676ba97-3462-4260-a1de-287cfee9ec96');\n",
              "        const dataTable =\n",
              "          await google.colab.kernel.invokeFunction('convertToInteractive',\n",
              "                                                    [key], {});\n",
              "        if (!dataTable) return;\n",
              "\n",
              "        const docLinkHtml = 'Like what you see? Visit the ' +\n",
              "          '<a target=\"_blank\" href=https://colab.research.google.com/notebooks/data_table.ipynb>data table notebook</a>'\n",
              "          + ' to learn more about interactive tables.';\n",
              "        element.innerHTML = '';\n",
              "        dataTable['output_type'] = 'display_data';\n",
              "        await google.colab.output.renderOutput(dataTable, element);\n",
              "        const docLink = document.createElement('div');\n",
              "        docLink.innerHTML = docLinkHtml;\n",
              "        element.appendChild(docLink);\n",
              "      }\n",
              "    </script>\n",
              "  </div>\n",
              "\n",
              "\n",
              "<div id=\"df-d76ef70a-e95e-4b60-ac5e-186be6f4d3a2\">\n",
              "  <button class=\"colab-df-quickchart\" onclick=\"quickchart('df-d76ef70a-e95e-4b60-ac5e-186be6f4d3a2')\"\n",
              "            title=\"Suggest charts\"\n",
              "            style=\"display:none;\">\n",
              "\n",
              "<svg xmlns=\"http://www.w3.org/2000/svg\" height=\"24px\"viewBox=\"0 0 24 24\"\n",
              "     width=\"24px\">\n",
              "    <g>\n",
              "        <path d=\"M19 3H5c-1.1 0-2 .9-2 2v14c0 1.1.9 2 2 2h14c1.1 0 2-.9 2-2V5c0-1.1-.9-2-2-2zM9 17H7v-7h2v7zm4 0h-2V7h2v10zm4 0h-2v-4h2v4z\"/>\n",
              "    </g>\n",
              "</svg>\n",
              "  </button>\n",
              "\n",
              "<style>\n",
              "  .colab-df-quickchart {\n",
              "      --bg-color: #E8F0FE;\n",
              "      --fill-color: #1967D2;\n",
              "      --hover-bg-color: #E2EBFA;\n",
              "      --hover-fill-color: #174EA6;\n",
              "      --disabled-fill-color: #AAA;\n",
              "      --disabled-bg-color: #DDD;\n",
              "  }\n",
              "\n",
              "  [theme=dark] .colab-df-quickchart {\n",
              "      --bg-color: #3B4455;\n",
              "      --fill-color: #D2E3FC;\n",
              "      --hover-bg-color: #434B5C;\n",
              "      --hover-fill-color: #FFFFFF;\n",
              "      --disabled-bg-color: #3B4455;\n",
              "      --disabled-fill-color: #666;\n",
              "  }\n",
              "\n",
              "  .colab-df-quickchart {\n",
              "    background-color: var(--bg-color);\n",
              "    border: none;\n",
              "    border-radius: 50%;\n",
              "    cursor: pointer;\n",
              "    display: none;\n",
              "    fill: var(--fill-color);\n",
              "    height: 32px;\n",
              "    padding: 0;\n",
              "    width: 32px;\n",
              "  }\n",
              "\n",
              "  .colab-df-quickchart:hover {\n",
              "    background-color: var(--hover-bg-color);\n",
              "    box-shadow: 0 1px 2px rgba(60, 64, 67, 0.3), 0 1px 3px 1px rgba(60, 64, 67, 0.15);\n",
              "    fill: var(--button-hover-fill-color);\n",
              "  }\n",
              "\n",
              "  .colab-df-quickchart-complete:disabled,\n",
              "  .colab-df-quickchart-complete:disabled:hover {\n",
              "    background-color: var(--disabled-bg-color);\n",
              "    fill: var(--disabled-fill-color);\n",
              "    box-shadow: none;\n",
              "  }\n",
              "\n",
              "  .colab-df-spinner {\n",
              "    border: 2px solid var(--fill-color);\n",
              "    border-color: transparent;\n",
              "    border-bottom-color: var(--fill-color);\n",
              "    animation:\n",
              "      spin 1s steps(1) infinite;\n",
              "  }\n",
              "\n",
              "  @keyframes spin {\n",
              "    0% {\n",
              "      border-color: transparent;\n",
              "      border-bottom-color: var(--fill-color);\n",
              "      border-left-color: var(--fill-color);\n",
              "    }\n",
              "    20% {\n",
              "      border-color: transparent;\n",
              "      border-left-color: var(--fill-color);\n",
              "      border-top-color: var(--fill-color);\n",
              "    }\n",
              "    30% {\n",
              "      border-color: transparent;\n",
              "      border-left-color: var(--fill-color);\n",
              "      border-top-color: var(--fill-color);\n",
              "      border-right-color: var(--fill-color);\n",
              "    }\n",
              "    40% {\n",
              "      border-color: transparent;\n",
              "      border-right-color: var(--fill-color);\n",
              "      border-top-color: var(--fill-color);\n",
              "    }\n",
              "    60% {\n",
              "      border-color: transparent;\n",
              "      border-right-color: var(--fill-color);\n",
              "    }\n",
              "    80% {\n",
              "      border-color: transparent;\n",
              "      border-right-color: var(--fill-color);\n",
              "      border-bottom-color: var(--fill-color);\n",
              "    }\n",
              "    90% {\n",
              "      border-color: transparent;\n",
              "      border-bottom-color: var(--fill-color);\n",
              "    }\n",
              "  }\n",
              "</style>\n",
              "\n",
              "  <script>\n",
              "    async function quickchart(key) {\n",
              "      const quickchartButtonEl =\n",
              "        document.querySelector('#' + key + ' button');\n",
              "      quickchartButtonEl.disabled = true;  // To prevent multiple clicks.\n",
              "      quickchartButtonEl.classList.add('colab-df-spinner');\n",
              "      try {\n",
              "        const charts = await google.colab.kernel.invokeFunction(\n",
              "            'suggestCharts', [key], {});\n",
              "      } catch (error) {\n",
              "        console.error('Error during call to suggestCharts:', error);\n",
              "      }\n",
              "      quickchartButtonEl.classList.remove('colab-df-spinner');\n",
              "      quickchartButtonEl.classList.add('colab-df-quickchart-complete');\n",
              "    }\n",
              "    (() => {\n",
              "      let quickchartButtonEl =\n",
              "        document.querySelector('#df-d76ef70a-e95e-4b60-ac5e-186be6f4d3a2 button');\n",
              "      quickchartButtonEl.style.display =\n",
              "        google.colab.kernel.accessAllowed ? 'block' : 'none';\n",
              "    })();\n",
              "  </script>\n",
              "</div>\n",
              "\n",
              "  <div id=\"id_ac9111cc-996f-4a2b-a6a4-7628eca37e04\">\n",
              "    <style>\n",
              "      .colab-df-generate {\n",
              "        background-color: #E8F0FE;\n",
              "        border: none;\n",
              "        border-radius: 50%;\n",
              "        cursor: pointer;\n",
              "        display: none;\n",
              "        fill: #1967D2;\n",
              "        height: 32px;\n",
              "        padding: 0 0 0 0;\n",
              "        width: 32px;\n",
              "      }\n",
              "\n",
              "      .colab-df-generate:hover {\n",
              "        background-color: #E2EBFA;\n",
              "        box-shadow: 0px 1px 2px rgba(60, 64, 67, 0.3), 0px 1px 3px 1px rgba(60, 64, 67, 0.15);\n",
              "        fill: #174EA6;\n",
              "      }\n",
              "\n",
              "      [theme=dark] .colab-df-generate {\n",
              "        background-color: #3B4455;\n",
              "        fill: #D2E3FC;\n",
              "      }\n",
              "\n",
              "      [theme=dark] .colab-df-generate:hover {\n",
              "        background-color: #434B5C;\n",
              "        box-shadow: 0px 1px 3px 1px rgba(0, 0, 0, 0.15);\n",
              "        filter: drop-shadow(0px 1px 2px rgba(0, 0, 0, 0.3));\n",
              "        fill: #FFFFFF;\n",
              "      }\n",
              "    </style>\n",
              "    <button class=\"colab-df-generate\" onclick=\"generateWithVariable('dataset2')\"\n",
              "            title=\"Generate code using this dataframe.\"\n",
              "            style=\"display:none;\">\n",
              "\n",
              "  <svg xmlns=\"http://www.w3.org/2000/svg\" height=\"24px\"viewBox=\"0 0 24 24\"\n",
              "       width=\"24px\">\n",
              "    <path d=\"M7,19H8.4L18.45,9,17,7.55,7,17.6ZM5,21V16.75L18.45,3.32a2,2,0,0,1,2.83,0l1.4,1.43a1.91,1.91,0,0,1,.58,1.4,1.91,1.91,0,0,1-.58,1.4L9.25,21ZM18.45,9,17,7.55Zm-12,3A5.31,5.31,0,0,0,4.9,8.1,5.31,5.31,0,0,0,1,6.5,5.31,5.31,0,0,0,4.9,4.9,5.31,5.31,0,0,0,6.5,1,5.31,5.31,0,0,0,8.1,4.9,5.31,5.31,0,0,0,12,6.5,5.46,5.46,0,0,0,6.5,12Z\"/>\n",
              "  </svg>\n",
              "    </button>\n",
              "    <script>\n",
              "      (() => {\n",
              "      const buttonEl =\n",
              "        document.querySelector('#id_ac9111cc-996f-4a2b-a6a4-7628eca37e04 button.colab-df-generate');\n",
              "      buttonEl.style.display =\n",
              "        google.colab.kernel.accessAllowed ? 'block' : 'none';\n",
              "\n",
              "      buttonEl.onclick = () => {\n",
              "        google.colab.notebook.generateWithVariable('dataset2');\n",
              "      }\n",
              "      })();\n",
              "    </script>\n",
              "  </div>\n",
              "\n",
              "    </div>\n",
              "  </div>\n"
            ],
            "application/vnd.google.colaboratory.intrinsic+json": {
              "type": "dataframe",
              "variable_name": "dataset2",
              "summary": "{\n  \"name\": \"dataset2\",\n  \"rows\": 100,\n  \"fields\": [\n    {\n      \"column\": \"Tumor Grade\",\n      \"properties\": {\n        \"dtype\": \"number\",\n        \"std\": 0,\n        \"min\": 1,\n        \"max\": 3,\n        \"num_unique_values\": 3,\n        \"samples\": [\n          3,\n          2,\n          1\n        ],\n        \"semantic_type\": \"\",\n        \"description\": \"\"\n      }\n    },\n    {\n      \"column\": \"Biopsy Result\",\n      \"properties\": {\n        \"dtype\": \"category\",\n        \"num_unique_values\": 2,\n        \"samples\": [\n          \"Negative\",\n          \"Positive\"\n        ],\n        \"semantic_type\": \"\",\n        \"description\": \"\"\n      }\n    },\n    {\n      \"column\": \"Lymph Node Involvement\",\n      \"properties\": {\n        \"dtype\": \"category\",\n        \"num_unique_values\": 2,\n        \"samples\": [\n          \"No\",\n          \"Yes\"\n        ],\n        \"semantic_type\": \"\",\n        \"description\": \"\"\n      }\n    },\n    {\n      \"column\": \"Bowel Obstruction\",\n      \"properties\": {\n        \"dtype\": \"category\",\n        \"num_unique_values\": 2,\n        \"samples\": [\n          \"No\",\n          \"Yes\"\n        ],\n        \"semantic_type\": \"\",\n        \"description\": \"\"\n      }\n    },\n    {\n      \"column\": \"Smoking History\",\n      \"properties\": {\n        \"dtype\": \"category\",\n        \"num_unique_values\": 2,\n        \"samples\": [\n          \"Smoker\",\n          \"Non-Smoker\"\n        ],\n        \"semantic_type\": \"\",\n        \"description\": \"\"\n      }\n    },\n    {\n      \"column\": \"Type of Colon Cancer\",\n      \"properties\": {\n        \"dtype\": \"number\",\n        \"std\": 0,\n        \"min\": 1,\n        \"max\": 3,\n        \"num_unique_values\": 3,\n        \"samples\": [\n          3,\n          2\n        ],\n        \"semantic_type\": \"\",\n        \"description\": \"\"\n      }\n    }\n  ]\n}"
            }
          },
          "metadata": {},
          "execution_count": 150
        }
      ]
    },
    {
      "cell_type": "code",
      "source": [
        "dataset1.columns"
      ],
      "metadata": {
        "colab": {
          "base_uri": "https://localhost:8080/"
        },
        "id": "00sGbajb9Inb",
        "outputId": "3fe69947-8720-4918-f6c6-98a2453b39a9"
      },
      "execution_count": 151,
      "outputs": [
        {
          "output_type": "execute_result",
          "data": {
            "text/plain": [
              "Index(['AGE', 'CEA Level', 'Colonoscopy Result', 'Polyp Size (mm)',\n",
              "       'Family History', 'Type of Colon Cancer'],\n",
              "      dtype='object')"
            ]
          },
          "metadata": {},
          "execution_count": 151
        }
      ]
    },
    {
      "cell_type": "code",
      "source": [
        "dataset2.columns"
      ],
      "metadata": {
        "colab": {
          "base_uri": "https://localhost:8080/"
        },
        "id": "mneG0Xrd9QCj",
        "outputId": "7a4dbde1-6edb-4b39-b488-edefa80b4553"
      },
      "execution_count": 152,
      "outputs": [
        {
          "output_type": "execute_result",
          "data": {
            "text/plain": [
              "Index(['Tumor Grade', 'Biopsy Result', 'Lymph Node Involvement',\n",
              "       'Bowel Obstruction', 'Smoking History', 'Type of Colon Cancer'],\n",
              "      dtype='object')"
            ]
          },
          "metadata": {},
          "execution_count": 152
        }
      ]
    },
    {
      "cell_type": "markdown",
      "source": [
        "**Exploratory Data Analysis (EDA)**"
      ],
      "metadata": {
        "id": "Ksk8zJb63gTj"
      }
    },
    {
      "cell_type": "code",
      "source": [
        "print(dataset1.info())\n",
        "print(dataset2.info())"
      ],
      "metadata": {
        "colab": {
          "base_uri": "https://localhost:8080/"
        },
        "id": "LB5FO2MT3bev",
        "outputId": "697ceeda-40c0-4582-a476-2a738f4909b4"
      },
      "execution_count": 153,
      "outputs": [
        {
          "output_type": "stream",
          "name": "stdout",
          "text": [
            "<class 'pandas.core.frame.DataFrame'>\n",
            "RangeIndex: 300 entries, 0 to 299\n",
            "Data columns (total 6 columns):\n",
            " #   Column                Non-Null Count  Dtype  \n",
            "---  ------                --------------  -----  \n",
            " 0   AGE                   300 non-null    int64  \n",
            " 1   CEA Level             300 non-null    float64\n",
            " 2   Colonoscopy Result    300 non-null    object \n",
            " 3   Polyp Size (mm)       300 non-null    float64\n",
            " 4   Family History        300 non-null    object \n",
            " 5   Type of Colon Cancer  300 non-null    int64  \n",
            "dtypes: float64(2), int64(2), object(2)\n",
            "memory usage: 14.2+ KB\n",
            "None\n",
            "<class 'pandas.core.frame.DataFrame'>\n",
            "RangeIndex: 100 entries, 0 to 99\n",
            "Data columns (total 6 columns):\n",
            " #   Column                  Non-Null Count  Dtype \n",
            "---  ------                  --------------  ----- \n",
            " 0   Tumor Grade             100 non-null    int64 \n",
            " 1   Biopsy Result           100 non-null    object\n",
            " 2   Lymph Node Involvement  100 non-null    object\n",
            " 3   Bowel Obstruction       100 non-null    object\n",
            " 4   Smoking History         100 non-null    object\n",
            " 5   Type of Colon Cancer    100 non-null    int64 \n",
            "dtypes: int64(2), object(4)\n",
            "memory usage: 4.8+ KB\n",
            "None\n"
          ]
        }
      ]
    },
    {
      "cell_type": "code",
      "source": [
        "print(dataset1.isnull().sum())\n",
        "print(dataset2.isnull().sum())"
      ],
      "metadata": {
        "colab": {
          "base_uri": "https://localhost:8080/"
        },
        "id": "MFf6peAq3ojq",
        "outputId": "9aa5d712-c8ce-48c7-83b3-22f8eba6d76d"
      },
      "execution_count": 154,
      "outputs": [
        {
          "output_type": "stream",
          "name": "stdout",
          "text": [
            "AGE                     0\n",
            "CEA Level               0\n",
            "Colonoscopy Result      0\n",
            "Polyp Size (mm)         0\n",
            "Family History          0\n",
            "Type of Colon Cancer    0\n",
            "dtype: int64\n",
            "Tumor Grade               0\n",
            "Biopsy Result             0\n",
            "Lymph Node Involvement    0\n",
            "Bowel Obstruction         0\n",
            "Smoking History           0\n",
            "Type of Colon Cancer      0\n",
            "dtype: int64\n"
          ]
        }
      ]
    },
    {
      "cell_type": "code",
      "source": [
        "dataset1.hist(figsize=(10, 8))\n",
        "plt.show()\n",
        "\n",
        "sns.boxplot(data=dataset1)"
      ],
      "metadata": {
        "colab": {
          "base_uri": "https://localhost:8080/",
          "height": 1000
        },
        "id": "8eyMaFaS3tsx",
        "outputId": "3073ff86-fc8c-4fb2-9a9a-01b37e4e43c6"
      },
      "execution_count": 155,
      "outputs": [
        {
          "output_type": "display_data",
          "data": {
            "text/plain": [
              "<Figure size 1000x800 with 4 Axes>"
            ],
            "image/png": "[encoded data removed]"
          },
          "metadata": {}
        },
        {
          "output_type": "execute_result",
          "data": {
            "text/plain": [
              "<Axes: >"
            ]
          },
          "metadata": {},
          "execution_count": 155
        },
        {
          "output_type": "display_data",
          "data": {
            "text/plain": [
              "<Figure size 640x480 with 1 Axes>"
            ],
            "image/png": "[encoded data removed]"
          },
          "metadata": {}
        }
      ]
    },
    {
      "cell_type": "code",
      "source": [
        "sns.countplot(x='Colonoscopy Result', data=dataset1)"
      ],
      "metadata": {
        "colab": {
          "base_uri": "https://localhost:8080/",
          "height": 466
        },
        "id": "Ne_9c9DK3xTr",
        "outputId": "418ac998-f734-4791-9138-05600587e247"
      },
      "execution_count": 156,
      "outputs": [
        {
          "output_type": "execute_result",
          "data": {
            "text/plain": [
              "<Axes: xlabel='Colonoscopy Result', ylabel='count'>"
            ]
          },
          "metadata": {},
          "execution_count": 156
        },
        {
          "output_type": "display_data",
          "data": {
            "text/plain": [
              "<Figure size 640x480 with 1 Axes>"
            ],
            "image/png": "[encoded data removed]"
          },
          "metadata": {}
        }
      ]
    },
    {
      "cell_type": "code",
      "source": [
        "# List of numerical columns to plot\n",
        "numerical_cols = ['AGE', 'CEA Level', 'Polyp Size (mm)']\n",
        "\n",
        "for col in numerical_cols:\n",
        "    sns.histplot(dataset1[col], kde=True, color='blue', bins=20)\n",
        "    plt.title(f'Distribution of {col}')\n",
        "    plt.xlabel(col)\n",
        "    plt.ylabel('Frequency')\n",
        "    plt.show()"
      ],
      "metadata": {
        "colab": {
          "base_uri": "https://localhost:8080/",
          "height": 1000
        },
        "id": "G9WCWhjm34we",
        "outputId": "f423e7fa-892b-41df-b448-fba8fec47c2e"
      },
      "execution_count": 157,
      "outputs": [
        {
          "output_type": "display_data",
          "data": {
            "text/plain": [
              "<Figure size 640x480 with 1 Axes>"
            ],
            "image/png": "[encoded data removed]"
          },
          "metadata": {}
        },
        {
          "output_type": "display_data",
          "data": {
            "text/plain": [
              "<Figure size 640x480 with 1 Axes>"
            ],
            "image/png": "[encoded data removed]"
          },
          "metadata": {}
        },
        {
          "output_type": "display_data",
          "data": {
            "text/plain": [
              "<Figure size 640x480 with 1 Axes>"
            ],
            "image/png": "[encoded data removed]"
          },
          "metadata": {}
        }
      ]
    },
    {
      "cell_type": "code",
      "source": [
        "for col in numerical_cols:\n",
        "    sns.boxplot(y=dataset1[col], color='lightcoral')\n",
        "    plt.title(f'Boxplot of {col}')\n",
        "    plt.ylabel(col)\n",
        "    plt.show()"
      ],
      "metadata": {
        "colab": {
          "base_uri": "https://localhost:8080/",
          "height": 1000
        },
        "id": "P8r9-2Hv38P4",
        "outputId": "8d2952fd-3d5e-4fdb-ac49-cdde8f12f9f7"
      },
      "execution_count": 158,
      "outputs": [
        {
          "output_type": "display_data",
          "data": {
            "text/plain": [
              "<Figure size 640x480 with 1 Axes>"
            ],
            "image/png": "[encoded data removed]"
          },
          "metadata": {}
        },
        {
          "output_type": "display_data",
          "data": {
            "text/plain": [
              "<Figure size 640x480 with 1 Axes>"
            ],
            "image/png": "[encoded data removed]"
          },
          "metadata": {}
        },
        {
          "output_type": "display_data",
          "data": {
            "text/plain": [
              "<Figure size 640x480 with 1 Axes>"
            ],
            "image/png": "[encoded data removed]"
          },
          "metadata": {}
        }
      ]
    },
    {
      "cell_type": "code",
      "source": [
        "# Select only numeric columns for correlation\n",
        "numeric_cols = dataset1.select_dtypes(include=['number']).columns\n",
        "corr_matrix = dataset1[numeric_cols].corr()\n",
        "\n",
        "# Plot the correlation heatmap\n",
        "plt.figure(figsize=(10, 8))\n",
        "sns.heatmap(corr_matrix, annot=True, fmt='.2f', cmap='coolwarm', linewidths=0.5)\n",
        "plt.title('Correlation Heatmap - Numeric Features')\n",
        "plt.show()\n"
      ],
      "metadata": {
        "colab": {
          "base_uri": "https://localhost:8080/",
          "height": 699
        },
        "id": "gUalKtoi4nSB",
        "outputId": "78a8910f-ca54-4a14-8e1d-a5683b627409"
      },
      "execution_count": 159,
      "outputs": [
        {
          "output_type": "display_data",
          "data": {
            "text/plain": [
              "<Figure size 1000x800 with 2 Axes>"
            ],
            "image/png": "[encoded data removed]"
          },
          "metadata": {}
        }
      ]
    },
    {
      "cell_type": "code",
      "source": [
        "sns.countplot(x='Type of Colon Cancer', data=dataset1, palette='cool')\n",
        "plt.title('Distribution of Colon Cancer Types')\n",
        "plt.xlabel('Type of Colon Cancer')\n",
        "plt.ylabel('Count')\n",
        "plt.show()\n"
      ],
      "metadata": {
        "colab": {
          "base_uri": "https://localhost:8080/",
          "height": 579
        },
        "id": "l2gPBsT34ntb",
        "outputId": "f850c1a0-39db-4448-a01e-5e27a292c8ad"
      },
      "execution_count": 160,
      "outputs": [
        {
          "output_type": "stream",
          "name": "stderr",
          "text": [
            "<ipython-input-160-71f0be395da1>:1: FutureWarning: \n",
            "\n",
            "Passing `palette` without assigning `hue` is deprecated and will be removed in v0.14.0. Assign the `x` variable to `hue` and set `legend=False` for the same effect.\n",
            "\n",
            "  sns.countplot(x='Type of Colon Cancer', data=dataset1, palette='cool')\n"
          ]
        },
        {
          "output_type": "display_data",
          "data": {
            "text/plain": [
              "<Figure size 640x480 with 1 Axes>"
            ],
            "image/png": "[encoded data removed]"
          },
          "metadata": {}
        }
      ]
    },
    {
      "cell_type": "code",
      "source": [],
      "metadata": {
        "id": "ECfo1iBc842L"
      },
      "execution_count": 160,
      "outputs": []
    },
    {
      "cell_type": "markdown",
      "source": [
        "# ** Data Preprocessing**"
      ],
      "metadata": {
        "id": "_Ya-Prhx61t9"
      }
    },
    {
      "cell_type": "code",
      "source": [
        "merged_data = pd.concat([dataset1.drop('Type of Colon Cancer', axis=1), dataset2], axis=1)\n"
      ],
      "metadata": {
        "id": "Jexbrogp847p"
      },
      "execution_count": 161,
      "outputs": []
    },
    {
      "cell_type": "code",
      "source": [
        "df=merged_data\n"
      ],
      "metadata": {
        "id": "cTrAAHlp89gJ"
      },
      "execution_count": 162,
      "outputs": []
    },
    {
      "cell_type": "code",
      "source": [
        "df.info()"
      ],
      "metadata": {
        "colab": {
          "base_uri": "https://localhost:8080/"
        },
        "id": "6YlyLKbJ9_KJ",
        "outputId": "db5a62c0-3f44-459a-acb9-52a9bd527ee8"
      },
      "execution_count": 163,
      "outputs": [
        {
          "output_type": "stream",
          "name": "stdout",
          "text": [
            "<class 'pandas.core.frame.DataFrame'>\n",
            "RangeIndex: 300 entries, 0 to 299\n",
            "Data columns (total 11 columns):\n",
            " #   Column                  Non-Null Count  Dtype  \n",
            "---  ------                  --------------  -----  \n",
            " 0   AGE                     300 non-null    int64  \n",
            " 1   CEA Level               300 non-null    float64\n",
            " 2   Colonoscopy Result      300 non-null    object \n",
            " 3   Polyp Size (mm)         300 non-null    float64\n",
            " 4   Family History          300 non-null    object \n",
            " 5   Tumor Grade             100 non-null    float64\n",
            " 6   Biopsy Result           100 non-null    object \n",
            " 7   Lymph Node Involvement  100 non-null    object \n",
            " 8   Bowel Obstruction       100 non-null    object \n",
            " 9   Smoking History         100 non-null    object \n",
            " 10  Type of Colon Cancer    100 non-null    float64\n",
            "dtypes: float64(4), int64(1), object(6)\n",
            "memory usage: 25.9+ KB\n"
          ]
        }
      ]
    },
    {
      "cell_type": "markdown",
      "source": [
        "**Handle Missing Values:**"
      ],
      "metadata": {
        "id": "H7p1Q0mY6_Oh"
      }
    },
    {
      "cell_type": "code",
      "source": [
        "from sklearn.preprocessing import LabelEncoder\n",
        "\n",
        "\n"
      ],
      "metadata": {
        "id": "1r7kSexP6u3L"
      },
      "execution_count": 164,
      "outputs": []
    },
    {
      "cell_type": "code",
      "source": [
        "# Encode categorical variables\n",
        "categorical_columns = ['Colonoscopy Result', 'Family History', 'Biopsy Result',\n",
        "                       'Lymph Node Involvement', 'Bowel Obstruction', 'Smoking History']\n",
        "for col in categorical_columns:\n",
        "    le = LabelEncoder()\n",
        "    merged_data[col] = le.fit_transform(merged_data[col])"
      ],
      "metadata": {
        "id": "QP0swifv-JmL"
      },
      "execution_count": 165,
      "outputs": []
    },
    {
      "cell_type": "code",
      "source": [
        "df.info()"
      ],
      "metadata": {
        "colab": {
          "base_uri": "https://localhost:8080/"
        },
        "id": "0SR6vnlY-n_C",
        "outputId": "93f8f36a-6afc-48f5-8326-b534535996c1"
      },
      "execution_count": 166,
      "outputs": [
        {
          "output_type": "stream",
          "name": "stdout",
          "text": [
            "<class 'pandas.core.frame.DataFrame'>\n",
            "RangeIndex: 300 entries, 0 to 299\n",
            "Data columns (total 11 columns):\n",
            " #   Column                  Non-Null Count  Dtype  \n",
            "---  ------                  --------------  -----  \n",
            " 0   AGE                     300 non-null    int64  \n",
            " 1   CEA Level               300 non-null    float64\n",
            " 2   Colonoscopy Result      300 non-null    int64  \n",
            " 3   Polyp Size (mm)         300 non-null    float64\n",
            " 4   Family History          300 non-null    int64  \n",
            " 5   Tumor Grade             100 non-null    float64\n",
            " 6   Biopsy Result           300 non-null    int64  \n",
            " 7   Lymph Node Involvement  300 non-null    int64  \n",
            " 8   Bowel Obstruction       300 non-null    int64  \n",
            " 9   Smoking History         300 non-null    int64  \n",
            " 10  Type of Colon Cancer    100 non-null    float64\n",
            "dtypes: float64(4), int64(7)\n",
            "memory usage: 25.9 KB\n"
          ]
        }
      ]
    },
    {
      "cell_type": "code",
      "source": [
        "# List all float columns\n",
        "float_cols = df.select_dtypes(include='float64').columns\n",
        "float_cols"
      ],
      "metadata": {
        "colab": {
          "base_uri": "https://localhost:8080/"
        },
        "id": "WR_B-dyb-oHa",
        "outputId": "1ac5625b-1279-4e54-ca38-45cf140b0f79"
      },
      "execution_count": 167,
      "outputs": [
        {
          "output_type": "execute_result",
          "data": {
            "text/plain": [
              "Index(['CEA Level', 'Polyp Size (mm)', 'Tumor Grade', 'Type of Colon Cancer'], dtype='object')"
            ]
          },
          "metadata": {},
          "execution_count": 167
        }
      ]
    },
    {
      "cell_type": "code",
      "source": [
        "df[float_cols] = df[float_cols].fillna(df[float_cols].median())"
      ],
      "metadata": {
        "id": "r0Rb9uDM-ypC"
      },
      "execution_count": 168,
      "outputs": []
    },
    {
      "cell_type": "code",
      "source": [
        "# Convert each float column to int\n",
        "df[float_cols] = df[float_cols].astype(int)"
      ],
      "metadata": {
        "id": "Q0HpvQQX-ysr"
      },
      "execution_count": 169,
      "outputs": []
    },
    {
      "cell_type": "code",
      "source": [
        "df.info()"
      ],
      "metadata": {
        "colab": {
          "base_uri": "https://localhost:8080/"
        },
        "id": "Is9XM2CP-8IX",
        "outputId": "a696d445-dfc1-4323-9ba7-4e6eac8c57a3"
      },
      "execution_count": 170,
      "outputs": [
        {
          "output_type": "stream",
          "name": "stdout",
          "text": [
            "<class 'pandas.core.frame.DataFrame'>\n",
            "RangeIndex: 300 entries, 0 to 299\n",
            "Data columns (total 11 columns):\n",
            " #   Column                  Non-Null Count  Dtype\n",
            "---  ------                  --------------  -----\n",
            " 0   AGE                     300 non-null    int64\n",
            " 1   CEA Level               300 non-null    int64\n",
            " 2   Colonoscopy Result      300 non-null    int64\n",
            " 3   Polyp Size (mm)         300 non-null    int64\n",
            " 4   Family History          300 non-null    int64\n",
            " 5   Tumor Grade             300 non-null    int64\n",
            " 6   Biopsy Result           300 non-null    int64\n",
            " 7   Lymph Node Involvement  300 non-null    int64\n",
            " 8   Bowel Obstruction       300 non-null    int64\n",
            " 9   Smoking History         300 non-null    int64\n",
            " 10  Type of Colon Cancer    300 non-null    int64\n",
            "dtypes: int64(11)\n",
            "memory usage: 25.9 KB\n"
          ]
        }
      ]
    },
    {
      "cell_type": "markdown",
      "source": [
        "**Feature Engineering**"
      ],
      "metadata": {
        "id": "kE24MhvpH0ny"
      }
    },
    {
      "cell_type": "markdown",
      "source": [
        "1. **Age and Polyp Size Interaction Feature**:\n",
        "\n",
        "*   Rationale: Older patients may have a higher risk of developing colon cancer. Combining this with polyp size might help capture interactions between these factors.\n",
        "* New Feature: Age_Polyp_Interaction = AGE * Polyp Size (mm)\n",
        "\n"
      ],
      "metadata": {
        "id": "369X08ZUIKZU"
      }
    },
    {
      "cell_type": "code",
      "source": [
        "# Creating a new feature combining Age and Polyp Size\n",
        "df['Age_Polyp_Interaction'] = df['AGE'] * df['Polyp Size (mm)']\n"
      ],
      "metadata": {
        "id": "M1gniyPuH6Ar"
      },
      "execution_count": 171,
      "outputs": []
    },
    {
      "cell_type": "markdown",
      "source": [
        "**Age Group Categorization:**\n",
        "Rationale: Age could be categorized into groups (e.g., young, middle-aged, and elderly), as colon cancer risks may vary significantly across age groups.\n",
        "New Feature: Age_Group (e.g., 0: Young, 1: Middle-aged, 2: Elderly)"
      ],
      "metadata": {
        "id": "g9rjSLLiIlp9"
      }
    },
    {
      "cell_type": "code",
      "source": [
        "# Creating a categorical feature for age groups\n",
        "bins = [0, 40, 60, 100]\n",
        "labels = ['Young', 'Middle-Aged', 'Elderly']\n",
        "df['Age_Group'] = pd.cut(df['AGE'], bins=bins, labels=labels)\n"
      ],
      "metadata": {
        "id": "Nn0t3UmJHzUR"
      },
      "execution_count": 172,
      "outputs": []
    },
    {
      "cell_type": "markdown",
      "source": [
        "**Bowel Obstruction and Smoking History Interaction**:\n",
        "Rationale: A combination of bowel obstruction and smoking history could serve as an important feature, as smoking is a risk factor for bowel diseases.\n",
        "New Feature: Bowel_Smoking_Interaction = Bowel Obstruction * Smoking History"
      ],
      "metadata": {
        "id": "1H9B-6yqPdHu"
      }
    },
    {
      "cell_type": "code",
      "source": [
        "# Creating a new feature combining Bowel Obstruction and Smoking History\n",
        "df['Bowel_Smoking_Interaction'] = df['Bowel Obstruction'] * df['Smoking History']\n"
      ],
      "metadata": {
        "id": "visg19wVHzYM"
      },
      "execution_count": 173,
      "outputs": []
    },
    {
      "cell_type": "markdown",
      "source": [],
      "metadata": {
        "id": "SUPVo4DgVR2f"
      }
    },
    {
      "cell_type": "markdown",
      "source": [
        "**umor Grade and Lymph Node Involvement Interaction**:\n",
        "Rationale: Tumor grade and lymph node involvement are both critical factors in determining cancer severity. Their interaction could be an important feature.\n",
        "New Feature: Tumor_Lymph_Interaction = Tumor Grade * Lymph Node Involvement"
      ],
      "metadata": {
        "id": "-OezDapOPnNf"
      }
    },
    {
      "cell_type": "code",
      "source": [
        "# Creating an interaction feature between Tumor Grade and Lymph Node Involvement\n",
        "df['Tumor_Lymph_Interaction'] = df['Tumor Grade'] * df['Lymph Node Involvement']\n"
      ],
      "metadata": {
        "id": "dVYj4hS2Hzb3"
      },
      "execution_count": 174,
      "outputs": []
    },
    {
      "cell_type": "markdown",
      "source": [
        "**Polyp Size Grouping:**\n",
        "Rationale: Polyp size could be categorized into small, medium, and large, as the size of polyps is linked to cancer risk.\n",
        "New Feature: Polyp_Size_Group = Small, Medium, Large"
      ],
      "metadata": {
        "id": "9GG9scJ_PtqR"
      }
    },
    {
      "cell_type": "code",
      "source": [
        "# Creating categorical bins for Polyp Size\n",
        "bins = [0, 5, 10, 50]  # Defining the bin edges\n",
        "labels = ['Small', 'Medium', 'Large']  # Labels for each bin\n",
        "df['Polyp_Size_Group'] = pd.cut(df['Polyp Size (mm)'], bins=bins, labels=labels)\n"
      ],
      "metadata": {
        "id": "VABhC7g4Hzfl"
      },
      "execution_count": 175,
      "outputs": []
    },
    {
      "cell_type": "markdown",
      "source": [
        "**Creating a Risk Score**:\n",
        "Rationale: A composite score based on the combination of features could serve as a new metric to represent the risk of colon cancer.\n",
        "New Feature: Risk_Score = Age + Polyp Size + Tumor Grade"
      ],
      "metadata": {
        "id": "0dLFKM7hPz0A"
      }
    },
    {
      "cell_type": "code",
      "source": [
        "# Creating a composite risk score\n",
        "df['Risk_Score'] = df['AGE'] + df['Polyp Size (mm)'] + df['Tumor Grade']\n"
      ],
      "metadata": {
        "id": "_zrCS2GPHzig"
      },
      "execution_count": 176,
      "outputs": []
    },
    {
      "cell_type": "markdown",
      "source": [
        "** Family History and Tumor Grade Interaction**:\n",
        " Rationale: A family history of cancer might have an impact on the severity of the tumor. Combining these two features might provide new insights.\n",
        "New Feature: Family_Tumor_Interaction = Family History * Tumor Grade\n",
        "python\n",
        "Copy code\n"
      ],
      "metadata": {
        "id": "cuGv7xKQQFv5"
      }
    },
    {
      "cell_type": "code",
      "source": [
        "# Creating an interaction feature between Family History and Tumor Grade\n",
        "df['Family_Tumor_Interaction'] = df['Family History'] * df['Tumor Grade']\n"
      ],
      "metadata": {
        "id": "JNqYLHCYHzlr"
      },
      "execution_count": 177,
      "outputs": []
    },
    {
      "cell_type": "markdown",
      "source": [
        "**Binarizing Categorical Variables**:\n",
        "Rationale: Converting categorical features like Colonoscopy Result or Biopsy Result into binary (0 or 1) features can sometimes help models capture the influence of categorical variables more clearly.\n",
        "python\n",
        "Copy code\n"
      ],
      "metadata": {
        "id": "qKcp5s07Qbaw"
      }
    },
    {
      "cell_type": "code",
      "source": [
        "# One-hot encoding for categorical variables if needed\n",
        "df = pd.get_dummies(df, columns=['Colonoscopy Result', 'Biopsy Result', 'Smoking History'], drop_first=True)\n"
      ],
      "metadata": {
        "id": "O9-pgb5iHzok"
      },
      "execution_count": 178,
      "outputs": []
    },
    {
      "cell_type": "code",
      "source": [
        "df.columns"
      ],
      "metadata": {
        "colab": {
          "base_uri": "https://localhost:8080/"
        },
        "id": "3PBbQONgWGYw",
        "outputId": "fe2ecac8-d8f3-4d61-8db2-54fa9d338834"
      },
      "execution_count": 179,
      "outputs": [
        {
          "output_type": "execute_result",
          "data": {
            "text/plain": [
              "Index(['AGE', 'CEA Level', 'Polyp Size (mm)', 'Family History', 'Tumor Grade',\n",
              "       'Lymph Node Involvement', 'Bowel Obstruction', 'Type of Colon Cancer',\n",
              "       'Age_Polyp_Interaction', 'Age_Group', 'Bowel_Smoking_Interaction',\n",
              "       'Tumor_Lymph_Interaction', 'Polyp_Size_Group', 'Risk_Score',\n",
              "       'Family_Tumor_Interaction', 'Colonoscopy Result_1', 'Biopsy Result_1',\n",
              "       'Biopsy Result_2', 'Smoking History_1', 'Smoking History_2'],\n",
              "      dtype='object')"
            ]
          },
          "metadata": {},
          "execution_count": 179
        }
      ]
    },
    {
      "cell_type": "markdown",
      "source": [
        "** Handling Outliers**:\n",
        "Rationale: Outliers in columns like AGE or Polyp Size (mm) could skew the model's performance. You could try removing or capping outliers."
      ],
      "metadata": {
        "id": "4zbH4G_TQlOa"
      }
    },
    {
      "cell_type": "code",
      "source": [
        "# Handling outliers by capping or removing\n",
        "def cap_outliers(df, column, lower_percentile=0.05, upper_percentile=0.95):\n",
        "    lower_limit = df[column].quantile(lower_percentile)\n",
        "    upper_limit = df[column].quantile(upper_percentile)\n",
        "    df[column] = np.where(df[column] < lower_limit, lower_limit, df[column])\n",
        "    df[column] = np.where(df[column] > upper_limit, upper_limit, df[column])\n",
        "\n",
        "# Apply to relevant columns\n",
        "cap_outliers(df, 'AGE')\n",
        "cap_outliers(df, 'Polyp Size (mm)')\n"
      ],
      "metadata": {
        "id": "3VlGFs8rQh2g"
      },
      "execution_count": 180,
      "outputs": []
    },
    {
      "cell_type": "code",
      "source": [
        "import seaborn as sns\n",
        "import matplotlib.pyplot as plt\n",
        "\n",
        "# Before capping\n",
        "plt.figure(figsize=(2, 2))\n",
        "sns.boxplot(x=df['AGE'])\n",
        "plt.title('Boxplot of AGE (Before Capping)')\n",
        "plt.show()\n",
        "\n",
        "plt.figure(figsize=(2, 2))\n",
        "sns.boxplot(x=df['Polyp Size (mm)'])\n",
        "plt.title('Boxplot of Polyp Size (Before Capping)')\n",
        "plt.show()\n",
        "\n",
        "# Apply capping\n",
        "cap_outliers(df, 'AGE')\n",
        "cap_outliers(df, 'Polyp Size (mm)')\n",
        "\n",
        "# After capping\n",
        "plt.figure(figsize=(2, 2))\n",
        "sns.boxplot(x=df['AGE'])\n",
        "plt.title('Boxplot of AGE (After Capping)')\n",
        "plt.show()\n",
        "\n",
        "plt.figure(figsize=(2, 2))\n",
        "sns.boxplot(x=df['Polyp Size (mm)'])\n",
        "plt.title('Boxplot of Polyp Size (After Capping)')\n",
        "plt.show()\n"
      ],
      "metadata": {
        "colab": {
          "base_uri": "https://localhost:8080/",
          "height": 973
        },
        "id": "jtqbWr1QXAYB",
        "outputId": "6cb168bb-0fd1-4417-cc32-85a297072328"
      },
      "execution_count": 181,
      "outputs": [
        {
          "output_type": "display_data",
          "data": {
            "text/plain": [
              "<Figure size 200x200 with 1 Axes>"
            ],
            "image/png": "[encoded data removed]"
          },
          "metadata": {}
        },
        {
          "output_type": "display_data",
          "data": {
            "text/plain": [
              "<Figure size 200x200 with 1 Axes>"
            ],
            "image/png": "[encoded data removed]"
          },
          "metadata": {}
        },
        {
          "output_type": "display_data",
          "data": {
            "text/plain": [
              "<Figure size 200x200 with 1 Axes>"
            ],
            "image/png": "[encoded data removed]"
          },
          "metadata": {}
        },
        {
          "output_type": "display_data",
          "data": {
            "text/plain": [
              "<Figure size 200x200 with 1 Axes>"
            ],
            "image/png": "[encoded data removed]"
          },
          "metadata": {}
        }
      ]
    },
    {
      "cell_type": "code",
      "source": [
        "# Summary statistics before capping\n",
        "print(\"Summary statistics before capping:\")\n",
        "print(df[['AGE', 'Polyp Size (mm)']].describe())\n",
        "\n",
        "# Apply capping\n",
        "cap_outliers(df, 'AGE')\n",
        "cap_outliers(df, 'Polyp Size (mm)')\n",
        "\n",
        "# Summary statistics after capping\n",
        "print(\"Summary statistics after capping:\")\n",
        "print(df[['AGE', 'Polyp Size (mm)']].describe())\n"
      ],
      "metadata": {
        "colab": {
          "base_uri": "https://localhost:8080/"
        },
        "id": "HHzrPaHhXAbX",
        "outputId": "0dd6a26c-a6c6-417a-c7a8-e2b3bed972e3"
      },
      "execution_count": 182,
      "outputs": [
        {
          "output_type": "stream",
          "name": "stdout",
          "text": [
            "Summary statistics before capping:\n",
            "              AGE  Polyp Size (mm)\n",
            "count  300.000000       300.000000\n",
            "mean    62.216667        24.163333\n",
            "std     13.170977        13.742130\n",
            "min     41.000000         3.000000\n",
            "25%     50.000000        12.000000\n",
            "50%     63.000000        23.500000\n",
            "75%     74.000000        36.250000\n",
            "max     83.000000        46.000000\n",
            "Summary statistics after capping:\n",
            "              AGE  Polyp Size (mm)\n",
            "count  300.000000       300.000000\n",
            "mean    62.216667        24.163333\n",
            "std     13.170977        13.742130\n",
            "min     41.000000         3.000000\n",
            "25%     50.000000        12.000000\n",
            "50%     63.000000        23.500000\n",
            "75%     74.000000        36.250000\n",
            "max     83.000000        46.000000\n"
          ]
        }
      ]
    },
    {
      "cell_type": "code",
      "source": [
        "from scipy.stats import zscore\n",
        "\n",
        "# Calculate Z-scores\n",
        "df['AGE_zscore'] = zscore(df['AGE'])\n",
        "df['Polyp_Size_zscore'] = zscore(df['Polyp Size (mm)'])\n",
        "\n",
        "# Check for any Z-scores greater than 3 or less than -3\n",
        "outliers_age = df[df['AGE_zscore'].abs() > 3]\n",
        "outliers_polyp = df[df['Polyp_Size_zscore'].abs() > 3]\n",
        "\n",
        "print(\"Outliers based on Z-score (AGE):\")\n",
        "print(outliers_age)\n",
        "\n",
        "print(\"Outliers based on Z-score (Polyp Size):\")\n",
        "print(outliers_polyp)\n"
      ],
      "metadata": {
        "colab": {
          "base_uri": "https://localhost:8080/"
        },
        "id": "bQ-CSVRBXAec",
        "outputId": "1e924c3b-ae19-4de9-f8ce-f7a563074ba6"
      },
      "execution_count": 183,
      "outputs": [
        {
          "output_type": "stream",
          "name": "stdout",
          "text": [
            "Outliers based on Z-score (AGE):\n",
            "Empty DataFrame\n",
            "Columns: [AGE, CEA Level, Polyp Size (mm), Family History, Tumor Grade, Lymph Node Involvement, Bowel Obstruction, Type of Colon Cancer, Age_Polyp_Interaction, Age_Group, Bowel_Smoking_Interaction, Tumor_Lymph_Interaction, Polyp_Size_Group, Risk_Score, Family_Tumor_Interaction, Colonoscopy Result_1, Biopsy Result_1, Biopsy Result_2, Smoking History_1, Smoking History_2, AGE_zscore, Polyp_Size_zscore]\n",
            "Index: []\n",
            "\n",
            "[0 rows x 22 columns]\n",
            "Outliers based on Z-score (Polyp Size):\n",
            "Empty DataFrame\n",
            "Columns: [AGE, CEA Level, Polyp Size (mm), Family History, Tumor Grade, Lymph Node Involvement, Bowel Obstruction, Type of Colon Cancer, Age_Polyp_Interaction, Age_Group, Bowel_Smoking_Interaction, Tumor_Lymph_Interaction, Polyp_Size_Group, Risk_Score, Family_Tumor_Interaction, Colonoscopy Result_1, Biopsy Result_1, Biopsy Result_2, Smoking History_1, Smoking History_2, AGE_zscore, Polyp_Size_zscore]\n",
            "Index: []\n",
            "\n",
            "[0 rows x 22 columns]\n"
          ]
        }
      ]
    },
    {
      "cell_type": "code",
      "source": [],
      "metadata": {
        "id": "XfX974FcXAhT"
      },
      "execution_count": 183,
      "outputs": []
    },
    {
      "cell_type": "code",
      "source": [],
      "metadata": {
        "id": "Eb4d6SaBXAkg"
      },
      "execution_count": 183,
      "outputs": []
    },
    {
      "cell_type": "markdown",
      "source": [
        "**Putting It All Together**:\n",
        "Here’s how you can combine these new features into your dataset and use them for model training"
      ],
      "metadata": {
        "id": "yBfQSG65QsvZ"
      }
    },
    {
      "cell_type": "code",
      "source": [
        "# Add the new features to the dataframe\n",
        "df['Age_Polyp_Interaction'] = df['AGE'] * df['Polyp Size (mm)']\n",
        "df['Age_Group'] = pd.cut(df['AGE'], bins=[0, 40, 60, 100], labels=['Young', 'Middle-Aged', 'Elderly'])\n",
        "df['Bowel_Smoking_Interaction'] = df['Bowel Obstruction'] * df['Smoking History_1']\n",
        "df['Tumor_Lymph_Interaction'] = df['Tumor Grade'] * df['Lymph Node Involvement']\n",
        "df['Polyp_Size_Group'] = pd.cut(df['Polyp Size (mm)'], bins=[0, 5, 10, 50], labels=['Small', 'Medium', 'Large'])\n",
        "df['Risk_Score'] = df['AGE'] + df['Polyp Size (mm)'] + df['Tumor Grade']\n",
        "df['Family_Tumor_Interaction'] = df['Family History'] * df['Tumor Grade']\n",
        "\n",
        "# Handle categorical columns (e.g., Age Group, Polyp Size Group) with one-hot encoding if needed\n",
        "df = pd.get_dummies(df, columns=['Age_Group', 'Polyp_Size_Group'], drop_first=True)\n",
        "\n",
        "# Ensure all necessary preprocessing is done before training the model\n",
        "# For example, label encoding for categorical features, scaling for numerical features, etc.\n"
      ],
      "metadata": {
        "id": "xqemPYeeQh6J"
      },
      "execution_count": 184,
      "outputs": []
    },
    {
      "cell_type": "code",
      "source": [
        "print(df.columns)\n"
      ],
      "metadata": {
        "colab": {
          "base_uri": "https://localhost:8080/"
        },
        "id": "OM6nSURZQh82",
        "outputId": "257b068f-bf65-4363-bfab-fe938e8c744a"
      },
      "execution_count": 185,
      "outputs": [
        {
          "output_type": "stream",
          "name": "stdout",
          "text": [
            "Index(['AGE', 'CEA Level', 'Polyp Size (mm)', 'Family History', 'Tumor Grade',\n",
            "       'Lymph Node Involvement', 'Bowel Obstruction', 'Type of Colon Cancer',\n",
            "       'Age_Polyp_Interaction', 'Bowel_Smoking_Interaction',\n",
            "       'Tumor_Lymph_Interaction', 'Risk_Score', 'Family_Tumor_Interaction',\n",
            "       'Colonoscopy Result_1', 'Biopsy Result_1', 'Biopsy Result_2',\n",
            "       'Smoking History_1', 'Smoking History_2', 'AGE_zscore',\n",
            "       'Polyp_Size_zscore', 'Age_Group_Middle-Aged', 'Age_Group_Elderly',\n",
            "       'Polyp_Size_Group_Medium', 'Polyp_Size_Group_Large'],\n",
            "      dtype='object')\n"
          ]
        }
      ]
    },
    {
      "cell_type": "markdown",
      "source": [
        "**Model Building**\n"
      ],
      "metadata": {
        "id": "l1awXgbF_W6c"
      }
    },
    {
      "cell_type": "code",
      "source": [
        "X = df.drop('Type of Colon Cancer', axis=1)\n",
        "y = df['Type of Colon Cancer']\n",
        "\n",
        "X_train, X_test, y_train, y_test = train_test_split(X, y, test_size=0.2, random_state=42)\n"
      ],
      "metadata": {
        "id": "xIuFlQPh8OmS"
      },
      "execution_count": 186,
      "outputs": []
    },
    {
      "cell_type": "code",
      "source": [
        "from sklearn.ensemble import RandomForestClassifier\n",
        "from sklearn.model_selection import StratifiedKFold, GridSearchCV, train_test_split\n",
        "from sklearn.metrics import classification_report\n",
        "from sklearn.preprocessing import StandardScaler"
      ],
      "metadata": {
        "id": "mAqluK7qB-iq"
      },
      "execution_count": 187,
      "outputs": []
    },
    {
      "cell_type": "code",
      "source": [
        "# Standardizing the data (important for some models)\n",
        "scaler = StandardScaler()\n",
        "X_train_scaled = scaler.fit_transform(X_train)  # Scale the training data\n",
        "X_test_scaled = scaler.transform(X_test)  # Transform the testing data"
      ],
      "metadata": {
        "id": "6jTRo_I4B4jj"
      },
      "execution_count": 188,
      "outputs": []
    },
    {
      "cell_type": "code",
      "source": [
        "rf_model = RandomForestClassifier(random_state=42)\n",
        "rf_model.fit(X_train, y_train)\n",
        "y_pred_rf = rf_model.predict(X_test)\n"
      ],
      "metadata": {
        "id": "pzN72R0v6vWz"
      },
      "execution_count": 189,
      "outputs": []
    },
    {
      "cell_type": "code",
      "source": [
        "from sklearn.linear_model import LogisticRegression\n",
        "\n",
        "model = LogisticRegression(max_iter=1000)  # Increase max_iter\n",
        "model.fit(X_train, y_train)\n",
        "\n"
      ],
      "metadata": {
        "colab": {
          "base_uri": "https://localhost:8080/",
          "height": 238
        },
        "id": "KfKNUYhF6vZ7",
        "outputId": "e13bc305-595e-4bfd-c27c-79ee2ad5ba6f"
      },
      "execution_count": 190,
      "outputs": [
        {
          "output_type": "stream",
          "name": "stderr",
          "text": [
            "/usr/local/lib/python3.10/dist-packages/sklearn/linear_model/_logistic.py:469: ConvergenceWarning: lbfgs failed to converge (status=1):\n",
            "STOP: TOTAL NO. of ITERATIONS REACHED LIMIT.\n",
            "\n",
            "Increase the number of iterations (max_iter) or scale the data as shown in:\n",
            "    https://scikit-learn.org/stable/modules/preprocessing.html\n",
            "Please also refer to the documentation for alternative solver options:\n",
            "    https://scikit-learn.org/stable/modules/linear_model.html#logistic-regression\n",
            "  n_iter_i = _check_optimize_result(\n"
          ]
        },
        {
          "output_type": "execute_result",
          "data": {
            "text/plain": [
              "LogisticRegression(max_iter=1000)"
            ],
            "text/html": [
              "<style>#sk-container-id-5 {\n",
              "  /* Definition of color scheme common for light and dark mode */\n",
              "  --sklearn-color-text: black;\n",
              "  --sklearn-color-line: gray;\n",
              "  /* Definition of color scheme for unfitted estimators */\n",
              "  --sklearn-color-unfitted-level-0: #fff5e6;\n",
              "  --sklearn-color-unfitted-level-1: #f6e4d2;\n",
              "  --sklearn-color-unfitted-level-2: #ffe0b3;\n",
              "  --sklearn-color-unfitted-level-3: chocolate;\n",
              "  /* Definition of color scheme for fitted estimators */\n",
              "  --sklearn-color-fitted-level-0: #f0f8ff;\n",
              "  --sklearn-color-fitted-level-1: #d4ebff;\n",
              "  --sklearn-color-fitted-level-2: #b3dbfd;\n",
              "  --sklearn-color-fitted-level-3: cornflowerblue;\n",
              "\n",
              "  /* Specific color for light theme */\n",
              "  --sklearn-color-text-on-default-background: var(--sg-text-color, var(--theme-code-foreground, var(--jp-content-font-color1, black)));\n",
              "  --sklearn-color-background: var(--sg-background-color, var(--theme-background, var(--jp-layout-color0, white)));\n",
              "  --sklearn-color-border-box: var(--sg-text-color, var(--theme-code-foreground, var(--jp-content-font-color1, black)));\n",
              "  --sklearn-color-icon: #696969;\n",
              "\n",
              "  @media (prefers-color-scheme: dark) {\n",
              "    /* Redefinition of color scheme for dark theme */\n",
              "    --sklearn-color-text-on-default-background: var(--sg-text-color, var(--theme-code-foreground, var(--jp-content-font-color1, white)));\n",
              "    --sklearn-color-background: var(--sg-background-color, var(--theme-background, var(--jp-layout-color0, #111)));\n",
              "    --sklearn-color-border-box: var(--sg-text-color, var(--theme-code-foreground, var(--jp-content-font-color1, white)));\n",
              "    --sklearn-color-icon: #878787;\n",
              "  }\n",
              "}\n",
              "\n",
              "#sk-container-id-5 {\n",
              "  color: var(--sklearn-color-text);\n",
              "}\n",
              "\n",
              "#sk-container-id-5 pre {\n",
              "  padding: 0;\n",
              "}\n",
              "\n",
              "#sk-container-id-5 input.sk-hidden--visually {\n",
              "  border: 0;\n",
              "  clip: rect(1px 1px 1px 1px);\n",
              "  clip: rect(1px, 1px, 1px, 1px);\n",
              "  height: 1px;\n",
              "  margin: -1px;\n",
              "  overflow: hidden;\n",
              "  padding: 0;\n",
              "  position: absolute;\n",
              "  width: 1px;\n",
              "}\n",
              "\n",
              "#sk-container-id-5 div.sk-dashed-wrapped {\n",
              "  border: 1px dashed var(--sklearn-color-line);\n",
              "  margin: 0 0.4em 0.5em 0.4em;\n",
              "  box-sizing: border-box;\n",
              "  padding-bottom: 0.4em;\n",
              "  background-color: var(--sklearn-color-background);\n",
              "}\n",
              "\n",
              "#sk-container-id-5 div.sk-container {\n",
              "  /* jupyter's `normalize.less` sets `[hidden] { display: none; }`\n",
              "     but bootstrap.min.css set `[hidden] { display: none !important; }`\n",
              "     so we also need the `!important` here to be able to override the\n",
              "     default hidden behavior on the sphinx rendered scikit-learn.org.\n",
              "     See: https://github.com/scikit-learn/scikit-learn/issues/21755 */\n",
              "  display: inline-block !important;\n",
              "  position: relative;\n",
              "}\n",
              "\n",
              "#sk-container-id-5 div.sk-text-repr-fallback {\n",
              "  display: none;\n",
              "}\n",
              "\n",
              "div.sk-parallel-item,\n",
              "div.sk-serial,\n",
              "div.sk-item {\n",
              "  /* draw centered vertical line to link estimators */\n",
              "  background-image: linear-gradient(var(--sklearn-color-text-on-default-background), var(--sklearn-color-text-on-default-background));\n",
              "  background-size: 2px 100%;\n",
              "  background-repeat: no-repeat;\n",
              "  background-position: center center;\n",
              "}\n",
              "\n",
              "/* Parallel-specific style estimator block */\n",
              "\n",
              "#sk-container-id-5 div.sk-parallel-item::after {\n",
              "  content: \"\";\n",
              "  width: 100%;\n",
              "  border-bottom: 2px solid var(--sklearn-color-text-on-default-background);\n",
              "  flex-grow: 1;\n",
              "}\n",
              "\n",
              "#sk-container-id-5 div.sk-parallel {\n",
              "  display: flex;\n",
              "  align-items: stretch;\n",
              "  justify-content: center;\n",
              "  background-color: var(--sklearn-color-background);\n",
              "  position: relative;\n",
              "}\n",
              "\n",
              "#sk-container-id-5 div.sk-parallel-item {\n",
              "  display: flex;\n",
              "  flex-direction: column;\n",
              "}\n",
              "\n",
              "#sk-container-id-5 div.sk-parallel-item:first-child::after {\n",
              "  align-self: flex-end;\n",
              "  width: 50%;\n",
              "}\n",
              "\n",
              "#sk-container-id-5 div.sk-parallel-item:last-child::after {\n",
              "  align-self: flex-start;\n",
              "  width: 50%;\n",
              "}\n",
              "\n",
              "#sk-container-id-5 div.sk-parallel-item:only-child::after {\n",
              "  width: 0;\n",
              "}\n",
              "\n",
              "/* Serial-specific style estimator block */\n",
              "\n",
              "#sk-container-id-5 div.sk-serial {\n",
              "  display: flex;\n",
              "  flex-direction: column;\n",
              "  align-items: center;\n",
              "  background-color: var(--sklearn-color-background);\n",
              "  padding-right: 1em;\n",
              "  padding-left: 1em;\n",
              "}\n",
              "\n",
              "\n",
              "/* Toggleable style: style used for estimator/Pipeline/ColumnTransformer box that is\n",
              "clickable and can be expanded/collapsed.\n",
              "- Pipeline and ColumnTransformer use this feature and define the default style\n",
              "- Estimators will overwrite some part of the style using the `sk-estimator` class\n",
              "*/\n",
              "\n",
              "/* Pipeline and ColumnTransformer style (default) */\n",
              "\n",
              "#sk-container-id-5 div.sk-toggleable {\n",
              "  /* Default theme specific background. It is overwritten whether we have a\n",
              "  specific estimator or a Pipeline/ColumnTransformer */\n",
              "  background-color: var(--sklearn-color-background);\n",
              "}\n",
              "\n",
              "/* Toggleable label */\n",
              "#sk-container-id-5 label.sk-toggleable__label {\n",
              "  cursor: pointer;\n",
              "  display: block;\n",
              "  width: 100%;\n",
              "  margin-bottom: 0;\n",
              "  padding: 0.5em;\n",
              "  box-sizing: border-box;\n",
              "  text-align: center;\n",
              "}\n",
              "\n",
              "#sk-container-id-5 label.sk-toggleable__label-arrow:before {\n",
              "  /* Arrow on the left of the label */\n",
              "  content: \"▸\";\n",
              "  float: left;\n",
              "  margin-right: 0.25em;\n",
              "  color: var(--sklearn-color-icon);\n",
              "}\n",
              "\n",
              "#sk-container-id-5 label.sk-toggleable__label-arrow:hover:before {\n",
              "  color: var(--sklearn-color-text);\n",
              "}\n",
              "\n",
              "/* Toggleable content - dropdown */\n",
              "\n",
              "#sk-container-id-5 div.sk-toggleable__content {\n",
              "  max-height: 0;\n",
              "  max-width: 0;\n",
              "  overflow: hidden;\n",
              "  text-align: left;\n",
              "  /* unfitted */\n",
              "  background-color: var(--sklearn-color-unfitted-level-0);\n",
              "}\n",
              "\n",
              "#sk-container-id-5 div.sk-toggleable__content.fitted {\n",
              "  /* fitted */\n",
              "  background-color: var(--sklearn-color-fitted-level-0);\n",
              "}\n",
              "\n",
              "#sk-container-id-5 div.sk-toggleable__content pre {\n",
              "  margin: 0.2em;\n",
              "  border-radius: 0.25em;\n",
              "  color: var(--sklearn-color-text);\n",
              "  /* unfitted */\n",
              "  background-color: var(--sklearn-color-unfitted-level-0);\n",
              "}\n",
              "\n",
              "#sk-container-id-5 div.sk-toggleable__content.fitted pre {\n",
              "  /* unfitted */\n",
              "  background-color: var(--sklearn-color-fitted-level-0);\n",
              "}\n",
              "\n",
              "#sk-container-id-5 input.sk-toggleable__control:checked~div.sk-toggleable__content {\n",
              "  /* Expand drop-down */\n",
              "  max-height: 200px;\n",
              "  max-width: 100%;\n",
              "  overflow: auto;\n",
              "}\n",
              "\n",
              "#sk-container-id-5 input.sk-toggleable__control:checked~label.sk-toggleable__label-arrow:before {\n",
              "  content: \"▾\";\n",
              "}\n",
              "\n",
              "/* Pipeline/ColumnTransformer-specific style */\n",
              "\n",
              "#sk-container-id-5 div.sk-label input.sk-toggleable__control:checked~label.sk-toggleable__label {\n",
              "  color: var(--sklearn-color-text);\n",
              "  background-color: var(--sklearn-color-unfitted-level-2);\n",
              "}\n",
              "\n",
              "#sk-container-id-5 div.sk-label.fitted input.sk-toggleable__control:checked~label.sk-toggleable__label {\n",
              "  background-color: var(--sklearn-color-fitted-level-2);\n",
              "}\n",
              "\n",
              "/* Estimator-specific style */\n",
              "\n",
              "/* Colorize estimator box */\n",
              "#sk-container-id-5 div.sk-estimator input.sk-toggleable__control:checked~label.sk-toggleable__label {\n",
              "  /* unfitted */\n",
              "  background-color: var(--sklearn-color-unfitted-level-2);\n",
              "}\n",
              "\n",
              "#sk-container-id-5 div.sk-estimator.fitted input.sk-toggleable__control:checked~label.sk-toggleable__label {\n",
              "  /* fitted */\n",
              "  background-color: var(--sklearn-color-fitted-level-2);\n",
              "}\n",
              "\n",
              "#sk-container-id-5 div.sk-label label.sk-toggleable__label,\n",
              "#sk-container-id-5 div.sk-label label {\n",
              "  /* The background is the default theme color */\n",
              "  color: var(--sklearn-color-text-on-default-background);\n",
              "}\n",
              "\n",
              "/* On hover, darken the color of the background */\n",
              "#sk-container-id-5 div.sk-label:hover label.sk-toggleable__label {\n",
              "  color: var(--sklearn-color-text);\n",
              "  background-color: var(--sklearn-color-unfitted-level-2);\n",
              "}\n",
              "\n",
              "/* Label box, darken color on hover, fitted */\n",
              "#sk-container-id-5 div.sk-label.fitted:hover label.sk-toggleable__label.fitted {\n",
              "  color: var(--sklearn-color-text);\n",
              "  background-color: var(--sklearn-color-fitted-level-2);\n",
              "}\n",
              "\n",
              "/* Estimator label */\n",
              "\n",
              "#sk-container-id-5 div.sk-label label {\n",
              "  font-family: monospace;\n",
              "  font-weight: bold;\n",
              "  display: inline-block;\n",
              "  line-height: 1.2em;\n",
              "}\n",
              "\n",
              "#sk-container-id-5 div.sk-label-container {\n",
              "  text-align: center;\n",
              "}\n",
              "\n",
              "/* Estimator-specific */\n",
              "#sk-container-id-5 div.sk-estimator {\n",
              "  font-family: monospace;\n",
              "  border: 1px dotted var(--sklearn-color-border-box);\n",
              "  border-radius: 0.25em;\n",
              "  box-sizing: border-box;\n",
              "  margin-bottom: 0.5em;\n",
              "  /* unfitted */\n",
              "  background-color: var(--sklearn-color-unfitted-level-0);\n",
              "}\n",
              "\n",
              "#sk-container-id-5 div.sk-estimator.fitted {\n",
              "  /* fitted */\n",
              "  background-color: var(--sklearn-color-fitted-level-0);\n",
              "}\n",
              "\n",
              "/* on hover */\n",
              "#sk-container-id-5 div.sk-estimator:hover {\n",
              "  /* unfitted */\n",
              "  background-color: var(--sklearn-color-unfitted-level-2);\n",
              "}\n",
              "\n",
              "#sk-container-id-5 div.sk-estimator.fitted:hover {\n",
              "  /* fitted */\n",
              "  background-color: var(--sklearn-color-fitted-level-2);\n",
              "}\n",
              "\n",
              "/* Specification for estimator info (e.g. \"i\" and \"?\") */\n",
              "\n",
              "/* Common style for \"i\" and \"?\" */\n",
              "\n",
              ".sk-estimator-doc-link,\n",
              "a:link.sk-estimator-doc-link,\n",
              "a:visited.sk-estimator-doc-link {\n",
              "  float: right;\n",
              "  font-size: smaller;\n",
              "  line-height: 1em;\n",
              "  font-family: monospace;\n",
              "  background-color: var(--sklearn-color-background);\n",
              "  border-radius: 1em;\n",
              "  height: 1em;\n",
              "  width: 1em;\n",
              "  text-decoration: none !important;\n",
              "  margin-left: 1ex;\n",
              "  /* unfitted */\n",
              "  border: var(--sklearn-color-unfitted-level-1) 1pt solid;\n",
              "  color: var(--sklearn-color-unfitted-level-1);\n",
              "}\n",
              "\n",
              ".sk-estimator-doc-link.fitted,\n",
              "a:link.sk-estimator-doc-link.fitted,\n",
              "a:visited.sk-estimator-doc-link.fitted {\n",
              "  /* fitted */\n",
              "  border: var(--sklearn-color-fitted-level-1) 1pt solid;\n",
              "  color: var(--sklearn-color-fitted-level-1);\n",
              "}\n",
              "\n",
              "/* On hover */\n",
              "div.sk-estimator:hover .sk-estimator-doc-link:hover,\n",
              ".sk-estimator-doc-link:hover,\n",
              "div.sk-label-container:hover .sk-estimator-doc-link:hover,\n",
              ".sk-estimator-doc-link:hover {\n",
              "  /* unfitted */\n",
              "  background-color: var(--sklearn-color-unfitted-level-3);\n",
              "  color: var(--sklearn-color-background);\n",
              "  text-decoration: none;\n",
              "}\n",
              "\n",
              "div.sk-estimator.fitted:hover .sk-estimator-doc-link.fitted:hover,\n",
              ".sk-estimator-doc-link.fitted:hover,\n",
              "div.sk-label-container:hover .sk-estimator-doc-link.fitted:hover,\n",
              ".sk-estimator-doc-link.fitted:hover {\n",
              "  /* fitted */\n",
              "  background-color: var(--sklearn-color-fitted-level-3);\n",
              "  color: var(--sklearn-color-background);\n",
              "  text-decoration: none;\n",
              "}\n",
              "\n",
              "/* Span, style for the box shown on hovering the info icon */\n",
              ".sk-estimator-doc-link span {\n",
              "  display: none;\n",
              "  z-index: 9999;\n",
              "  position: relative;\n",
              "  font-weight: normal;\n",
              "  right: .2ex;\n",
              "  padding: .5ex;\n",
              "  margin: .5ex;\n",
              "  width: min-content;\n",
              "  min-width: 20ex;\n",
              "  max-width: 50ex;\n",
              "  color: var(--sklearn-color-text);\n",
              "  box-shadow: 2pt 2pt 4pt #999;\n",
              "  /* unfitted */\n",
              "  background: var(--sklearn-color-unfitted-level-0);\n",
              "  border: .5pt solid var(--sklearn-color-unfitted-level-3);\n",
              "}\n",
              "\n",
              ".sk-estimator-doc-link.fitted span {\n",
              "  /* fitted */\n",
              "  background: var(--sklearn-color-fitted-level-0);\n",
              "  border: var(--sklearn-color-fitted-level-3);\n",
              "}\n",
              "\n",
              ".sk-estimator-doc-link:hover span {\n",
              "  display: block;\n",
              "}\n",
              "\n",
              "/* \"?\"-specific style due to the `<a>` HTML tag */\n",
              "\n",
              "#sk-container-id-5 a.estimator_doc_link {\n",
              "  float: right;\n",
              "  font-size: 1rem;\n",
              "  line-height: 1em;\n",
              "  font-family: monospace;\n",
              "  background-color: var(--sklearn-color-background);\n",
              "  border-radius: 1rem;\n",
              "  height: 1rem;\n",
              "  width: 1rem;\n",
              "  text-decoration: none;\n",
              "  /* unfitted */\n",
              "  color: var(--sklearn-color-unfitted-level-1);\n",
              "  border: var(--sklearn-color-unfitted-level-1) 1pt solid;\n",
              "}\n",
              "\n",
              "#sk-container-id-5 a.estimator_doc_link.fitted {\n",
              "  /* fitted */\n",
              "  border: var(--sklearn-color-fitted-level-1) 1pt solid;\n",
              "  color: var(--sklearn-color-fitted-level-1);\n",
              "}\n",
              "\n",
              "/* On hover */\n",
              "#sk-container-id-5 a.estimator_doc_link:hover {\n",
              "  /* unfitted */\n",
              "  background-color: var(--sklearn-color-unfitted-level-3);\n",
              "  color: var(--sklearn-color-background);\n",
              "  text-decoration: none;\n",
              "}\n",
              "\n",
              "#sk-container-id-5 a.estimator_doc_link.fitted:hover {\n",
              "  /* fitted */\n",
              "  background-color: var(--sklearn-color-fitted-level-3);\n",
              "}\n",
              "</style><div id=\"sk-container-id-5\" class=\"sk-top-container\"><div class=\"sk-text-repr-fallback\"><pre>LogisticRegression(max_iter=1000)</pre><b>In a Jupyter environment, please rerun this cell to show the HTML representation or trust the notebook. <br />On GitHub, the HTML representation is unable to render, please try loading this page with nbviewer.org.</b></div><div class=\"sk-container\" hidden><div class=\"sk-item\"><div class=\"sk-estimator fitted sk-toggleable\"><input class=\"sk-toggleable__control sk-hidden--visually\" id=\"sk-estimator-id-7\" type=\"checkbox\" checked><label for=\"sk-estimator-id-7\" class=\"sk-toggleable__label fitted sk-toggleable__label-arrow fitted\">&nbsp;&nbsp;LogisticRegression<a class=\"sk-estimator-doc-link fitted\" rel=\"noreferrer\" target=\"_blank\" href=\"https://scikit-learn.org/1.5/modules/generated/sklearn.linear_model.LogisticRegression.html\">?<span>Documentation for LogisticRegression</span></a><span class=\"sk-estimator-doc-link fitted\">i<span>Fitted</span></span></label><div class=\"sk-toggleable__content fitted\"><pre>LogisticRegression(max_iter=1000)</pre></div> </div></div></div></div>"
            ]
          },
          "metadata": {},
          "execution_count": 190
        }
      ]
    },
    {
      "cell_type": "markdown",
      "source": [
        "**MODEL EVALUATION**"
      ],
      "metadata": {
        "id": "68JW7UEh_7yV"
      }
    },
    {
      "cell_type": "code",
      "source": [
        "print(\"Random Forest Performance:\")\n",
        "print(classification_report(y_test, y_pred_rf))\n",
        "\n",
        "\n"
      ],
      "metadata": {
        "colab": {
          "base_uri": "https://localhost:8080/"
        },
        "id": "OJNOBJ4Y6vc4",
        "outputId": "c5d95883-4822-40a0-f2f5-3756fb2eca49"
      },
      "execution_count": 191,
      "outputs": [
        {
          "output_type": "stream",
          "name": "stdout",
          "text": [
            "Random Forest Performance:\n",
            "              precision    recall  f1-score   support\n",
            "\n",
            "           1       0.00      0.00      0.00         8\n",
            "           2       0.81      0.89      0.85        47\n",
            "           3       0.00      0.00      0.00         5\n",
            "\n",
            "    accuracy                           0.70        60\n",
            "   macro avg       0.27      0.30      0.28        60\n",
            "weighted avg       0.63      0.70      0.66        60\n",
            "\n"
          ]
        }
      ]
    },
    {
      "cell_type": "code",
      "source": [
        "print(\"Logistic Regression Performance:\")\n",
        "print(classification_report(y_test, y_pred_lr))"
      ],
      "metadata": {
        "colab": {
          "base_uri": "https://localhost:8080/"
        },
        "id": "Uu3hkqmu6vhJ",
        "outputId": "49616e53-229f-4a5b-8817-adf96c8b7bda"
      },
      "execution_count": 192,
      "outputs": [
        {
          "output_type": "stream",
          "name": "stdout",
          "text": [
            "Logistic Regression Performance:\n",
            "              precision    recall  f1-score   support\n",
            "\n",
            "           1       0.50      0.38      0.43         8\n",
            "           2       0.86      0.94      0.90        47\n",
            "           3       0.33      0.20      0.25         5\n",
            "\n",
            "    accuracy                           0.80        60\n",
            "   macro avg       0.57      0.50      0.53        60\n",
            "weighted avg       0.77      0.80      0.78        60\n",
            "\n"
          ]
        }
      ]
    },
    {
      "cell_type": "code",
      "source": [
        "from sklearn.model_selection import StratifiedKFold, GridSearchCV\n"
      ],
      "metadata": {
        "id": "i9_43D9gBobE"
      },
      "execution_count": 193,
      "outputs": []
    },
    {
      "cell_type": "code",
      "source": [
        "# Initialize the RandomForestClassifier\n",
        "rf_model = RandomForestClassifier(random_state=42)\n",
        "\n",
        "# Hyperparameter grid for tuning\n",
        "param_grid = {\n",
        "    'n_estimators': [100, 200, 300],\n",
        "    'max_depth': [10, 20, None],\n",
        "    'min_samples_split': [2, 5, 10],\n",
        "    'min_samples_leaf': [1, 2, 4],\n",
        "    'class_weight': ['balanced', None]\n",
        "}\n",
        "\n",
        "# Using GridSearchCV for hyperparameter tuning with StratifiedKFold cross-validation\n",
        "grid_search = GridSearchCV(estimator=rf_model, param_grid=param_grid, cv=StratifiedKFold(n_splits=5),\n",
        "                           scoring='accuracy', n_jobs=-1, verbose=2)\n",
        "\n",
        "# Fit the model with the best parameters\n",
        "grid_search.fit(X_train_scaled, y_train)\n",
        "\n",
        "# Best parameters and best model\n",
        "print(f\"Best parameters: {grid_search.best_params_}\")\n",
        "best_rf_model = grid_search.best_estimator_\n",
        "\n",
        "# Predictions and evaluation\n",
        "y_pred_rf = best_rf_model.predict(X_test_scaled)\n",
        "print(\"Random Forest Performance:\")\n",
        "print(classification_report(y_test, y_pred_rf))"
      ],
      "metadata": {
        "colab": {
          "base_uri": "https://localhost:8080/"
        },
        "id": "yVK-5Gec6vks",
        "outputId": "4a3b7187-efb5-43a5-82aa-91ab2a9712b2"
      },
      "execution_count": 194,
      "outputs": [
        {
          "output_type": "stream",
          "name": "stdout",
          "text": [
            "Fitting 5 folds for each of 162 candidates, totalling 810 fits\n",
            "Best parameters: {'class_weight': None, 'max_depth': 10, 'min_samples_leaf': 2, 'min_samples_split': 10, 'n_estimators': 200}\n",
            "Random Forest Performance:\n",
            "              precision    recall  f1-score   support\n",
            "\n",
            "           1       0.00      0.00      0.00         8\n",
            "           2       0.85      0.94      0.89        47\n",
            "           3       0.20      0.20      0.20         5\n",
            "\n",
            "    accuracy                           0.75        60\n",
            "   macro avg       0.35      0.38      0.36        60\n",
            "weighted avg       0.68      0.75      0.71        60\n",
            "\n"
          ]
        }
      ]
    },
    {
      "cell_type": "code",
      "source": [
        "explainer = shap.TreeExplainer(rf_model)\n",
        "shap_values = explainer.shap_values(X_test)\n",
        "\n",
        "shap.summary_plot(shap_values, X_test)\n"
      ],
      "metadata": {
        "colab": {
          "base_uri": "https://localhost:8080/",
          "height": 373
        },
        "id": "F2vvofuIA3UM",
        "outputId": "387bf218-3d14-47fa-dc1c-5203816636f6"
      },
      "execution_count": 195,
      "outputs": [
        {
          "output_type": "error",
          "ename": "AssertionError",
          "evalue": "Model has no `estimators_`! Have you called `model.fit`?",
          "traceback": [
            "\u001b[0;31m---------------------------------------------------------------------------\u001b[0m",
            "\u001b[0;31mAssertionError\u001b[0m                            Traceback (most recent call last)",
            "\u001b[0;32m<ipython-input-195-89b0e7cbfa6c>\u001b[0m in \u001b[0;36m<cell line: 1>\u001b[0;34m()\u001b[0m\n\u001b[0;32m----> 1\u001b[0;31m \u001b[0mexplainer\u001b[0m \u001b[0;34m=\u001b[0m \u001b[0mshap\u001b[0m\u001b[0;34m.\u001b[0m\u001b[0mTreeExplainer\u001b[0m\u001b[0;34m(\u001b[0m\u001b[0mrf_model\u001b[0m\u001b[0;34m)\u001b[0m\u001b[0;34m\u001b[0m\u001b[0;34m\u001b[0m\u001b[0m\n\u001b[0m\u001b[1;32m      2\u001b[0m \u001b[0mshap_values\u001b[0m \u001b[0;34m=\u001b[0m \u001b[0mexplainer\u001b[0m\u001b[0;34m.\u001b[0m\u001b[0mshap_values\u001b[0m\u001b[0;34m(\u001b[0m\u001b[0mX_test\u001b[0m\u001b[0;34m)\u001b[0m\u001b[0;34m\u001b[0m\u001b[0;34m\u001b[0m\u001b[0m\n\u001b[1;32m      3\u001b[0m \u001b[0;34m\u001b[0m\u001b[0m\n\u001b[1;32m      4\u001b[0m \u001b[0mshap\u001b[0m\u001b[0;34m.\u001b[0m\u001b[0msummary_plot\u001b[0m\u001b[0;34m(\u001b[0m\u001b[0mshap_values\u001b[0m\u001b[0;34m,\u001b[0m \u001b[0mX_test\u001b[0m\u001b[0;34m)\u001b[0m\u001b[0;34m\u001b[0m\u001b[0;34m\u001b[0m\u001b[0m\n",
            "\u001b[0;32m/usr/local/lib/python3.10/dist-packages/shap/explainers/_tree.py\u001b[0m in \u001b[0;36m__init__\u001b[0;34m(self, model, data, model_output, feature_perturbation, feature_names, approximate, link, linearize_link)\u001b[0m\n\u001b[1;32m    193\u001b[0m         \u001b[0mself\u001b[0m\u001b[0;34m.\u001b[0m\u001b[0mfeature_perturbation\u001b[0m \u001b[0;34m=\u001b[0m \u001b[0mfeature_perturbation\u001b[0m\u001b[0;34m\u001b[0m\u001b[0;34m\u001b[0m\u001b[0m\n\u001b[1;32m    194\u001b[0m         \u001b[0mself\u001b[0m\u001b[0;34m.\u001b[0m\u001b[0mexpected_value\u001b[0m \u001b[0;34m=\u001b[0m \u001b[0;32mNone\u001b[0m\u001b[0;34m\u001b[0m\u001b[0;34m\u001b[0m\u001b[0m\n\u001b[0;32m--> 195\u001b[0;31m         \u001b[0mself\u001b[0m\u001b[0;34m.\u001b[0m\u001b[0mmodel\u001b[0m \u001b[0;34m=\u001b[0m \u001b[0mTreeEnsemble\u001b[0m\u001b[0;34m(\u001b[0m\u001b[0mmodel\u001b[0m\u001b[0;34m,\u001b[0m \u001b[0mself\u001b[0m\u001b[0;34m.\u001b[0m\u001b[0mdata\u001b[0m\u001b[0;34m,\u001b[0m \u001b[0mself\u001b[0m\u001b[0;34m.\u001b[0m\u001b[0mdata_missing\u001b[0m\u001b[0;34m,\u001b[0m \u001b[0mmodel_output\u001b[0m\u001b[0;34m)\u001b[0m\u001b[0;34m\u001b[0m\u001b[0;34m\u001b[0m\u001b[0m\n\u001b[0m\u001b[1;32m    196\u001b[0m         \u001b[0mself\u001b[0m\u001b[0;34m.\u001b[0m\u001b[0mmodel_output\u001b[0m \u001b[0;34m=\u001b[0m \u001b[0mmodel_output\u001b[0m\u001b[0;34m\u001b[0m\u001b[0;34m\u001b[0m\u001b[0m\n\u001b[1;32m    197\u001b[0m         \u001b[0;31m#self.model_output = self.model.model_output # this allows the TreeEnsemble to translate model outputs types by how it loads the model\u001b[0m\u001b[0;34m\u001b[0m\u001b[0;34m\u001b[0m\u001b[0m\n",
            "\u001b[0;32m/usr/local/lib/python3.10/dist-packages/shap/explainers/_tree.py\u001b[0m in \u001b[0;36m__init__\u001b[0;34m(self, model, data, data_missing, model_output)\u001b[0m\n\u001b[1;32m    845\u001b[0m             ],\n\u001b[1;32m    846\u001b[0m         ):\n\u001b[0;32m--> 847\u001b[0;31m             \u001b[0;32massert\u001b[0m \u001b[0mhasattr\u001b[0m\u001b[0;34m(\u001b[0m\u001b[0mmodel\u001b[0m\u001b[0;34m,\u001b[0m \u001b[0;34m\"estimators_\"\u001b[0m\u001b[0;34m)\u001b[0m\u001b[0;34m,\u001b[0m \u001b[0;34m\"Model has no `estimators_`! Have you called `model.fit`?\"\u001b[0m\u001b[0;34m\u001b[0m\u001b[0;34m\u001b[0m\u001b[0m\n\u001b[0m\u001b[1;32m    848\u001b[0m             \u001b[0mself\u001b[0m\u001b[0;34m.\u001b[0m\u001b[0minternal_dtype\u001b[0m \u001b[0;34m=\u001b[0m \u001b[0mmodel\u001b[0m\u001b[0;34m.\u001b[0m\u001b[0mestimators_\u001b[0m\u001b[0;34m[\u001b[0m\u001b[0;36m0\u001b[0m\u001b[0;34m]\u001b[0m\u001b[0;34m.\u001b[0m\u001b[0mtree_\u001b[0m\u001b[0;34m.\u001b[0m\u001b[0mvalue\u001b[0m\u001b[0;34m.\u001b[0m\u001b[0mdtype\u001b[0m\u001b[0;34m.\u001b[0m\u001b[0mtype\u001b[0m\u001b[0;34m\u001b[0m\u001b[0;34m\u001b[0m\u001b[0m\n\u001b[1;32m    849\u001b[0m             \u001b[0mself\u001b[0m\u001b[0;34m.\u001b[0m\u001b[0minput_dtype\u001b[0m \u001b[0;34m=\u001b[0m \u001b[0mnp\u001b[0m\u001b[0;34m.\u001b[0m\u001b[0mfloat32\u001b[0m\u001b[0;34m\u001b[0m\u001b[0;34m\u001b[0m\u001b[0m\n",
            "\u001b[0;31mAssertionError\u001b[0m: Model has no `estimators_`! Have you called `model.fit`?"
          ]
        }
      ]
    },
    {
      "cell_type": "code",
      "source": [],
      "metadata": {
        "id": "Q5qEbK954nzK"
      },
      "execution_count": null,
      "outputs": []
    },
    {
      "cell_type": "code",
      "source": [],
      "metadata": {
        "id": "L0ZgmT1_4n2E"
      },
      "execution_count": null,
      "outputs": []
    },
    {
      "cell_type": "code",
      "source": [],
      "metadata": {
        "id": "QW9H2Hng4n5H"
      },
      "execution_count": null,
      "outputs": []
    }
  ]
}